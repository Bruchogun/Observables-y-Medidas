{
 "cells": [
  {
   "cell_type": "code",
   "execution_count": 7,
   "metadata": {},
   "outputs": [
    {
     "name": "stdout",
     "output_type": "stream",
     "text": [
      "[(0.5547001962252291+0.8320502943378437j), 0j, 0j, 0j]\n",
      "1.0\n",
      "0.4999999999999999\n"
     ]
    }
   ],
   "source": [
    "import numpy as np\n",
    "\n",
    "#funtion tu normalize a vector\n",
    "def normalize(vector):\n",
    "    norm = 0\n",
    "    for i in range(len(vector)):\n",
    "        norm += abs(vector[i])**2\n",
    "    norm = norm**(1/2)\n",
    "    return [vector[i]/norm for i in range(len(vector))]\n",
    "\n",
    "#function to calculate the probability of finding the particle in a particular position\n",
    "def probability(vector, position):\n",
    "    vector = normalize(vector)\n",
    "    return abs(vector[position])**2\n",
    "\n",
    "#function to calculate the probability of transitioning from one vector to another\n",
    "\n",
    "def transition_probability(vector1, vector2):\n",
    "    vector1 = normalize(vector1)\n",
    "    vector2 = normalize(vector2)\n",
    "    if len(vector1) != len(vector2):\n",
    "        return \"The vectors must have the same length\"\n",
    "    else:\n",
    "        prob = 0\n",
    "        for i in range(len(vector1)):\n",
    "            prob += vector1[i]*vector2[i]\n",
    "        return abs(prob)**2\n",
    "\n",
    "#test\n",
    "vector1 = np.array([2+3j,0,0,0])\n",
    "vector2 = np.array([1,1,0,0])\n",
    "print(normalize(vector1))\n",
    "print(probability(vector1, 0))\n",
    "print(transition_probability(vector1, vector2))\n",
    "\n",
    "\n",
    "\n",
    "\n"
   ]
  }
 ],
 "metadata": {
  "kernelspec": {
   "display_name": ".venv",
   "language": "python",
   "name": "python3"
  },
  "language_info": {
   "codemirror_mode": {
    "name": "ipython",
    "version": 3
   },
   "file_extension": ".py",
   "mimetype": "text/x-python",
   "name": "python",
   "nbconvert_exporter": "python",
   "pygments_lexer": "ipython3",
   "version": "3.11.7"
  }
 },
 "nbformat": 4,
 "nbformat_minor": 2
}
